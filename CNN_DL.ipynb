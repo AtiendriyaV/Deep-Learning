{
  "nbformat": 4,
  "nbformat_minor": 0,
  "metadata": {
    "colab": {
      "provenance": []
    },
    "kernelspec": {
      "name": "python3",
      "display_name": "Python 3"
    },
    "language_info": {
      "name": "python"
    }
  },
  "cells": [
    {
      "cell_type": "code",
      "source": [
        "import tensorflow as tf\n",
        "from tensorflow import keras\n",
        "from tensorflow.keras import layers\n",
        "from tensorflow.keras.datasets import cifar10\n",
        "from tensorflow.keras.utils import to_categorical\n",
        "from tensorflow.keras.callbacks import EarlyStopping\n"
      ],
      "metadata": {
        "id": "ikSRHuFxox35"
      },
      "execution_count": null,
      "outputs": []
    },
    {
      "cell_type": "code",
      "source": [
        "(x_train, y_train), (x_test, y_test) = cifar10.load_data()"
      ],
      "metadata": {
        "colab": {
          "base_uri": "https://localhost:8080/"
        },
        "id": "SyH7PXHEo1zD",
        "outputId": "17594e7f-6777-4e75-cc02-74c35ac98659"
      },
      "execution_count": null,
      "outputs": [
        {
          "output_type": "stream",
          "name": "stdout",
          "text": [
            "Downloading data from https://www.cs.toronto.edu/~kriz/cifar-10-python.tar.gz\n",
            "170498071/170498071 [==============================] - 3s 0us/step\n"
          ]
        }
      ]
    },
    {
      "cell_type": "code",
      "source": [
        "x_train = x_train.astype(\"float32\") / 255.0\n",
        "x_test = x_test.astype(\"float32\") / 255.0"
      ],
      "metadata": {
        "id": "YFtUjAyRo6yq"
      },
      "execution_count": null,
      "outputs": []
    },
    {
      "cell_type": "code",
      "source": [
        "y_train = to_categorical(y_train)\n",
        "y_test = to_categorical(y_test)"
      ],
      "metadata": {
        "id": "YEP3vkJDo8t7"
      },
      "execution_count": null,
      "outputs": []
    },
    {
      "cell_type": "code",
      "source": [
        "model = keras.Sequential(\n",
        "    [\n",
        "        layers.Conv2D(32, kernel_size=(3, 3), activation=\"relu\", input_shape=(32, 32, 3)),\n",
        "        layers.MaxPooling2D(pool_size=(2, 2)),\n",
        "        layers.Conv2D(64, kernel_size=(3, 3), activation=\"relu\"),\n",
        "        layers.MaxPooling2D(pool_size=(2, 2)),\n",
        "        layers.Flatten(),\n",
        "        layers.Dense(10, activation=\"softmax\"),\n",
        "    ]\n",
        ")"
      ],
      "metadata": {
        "id": "EF_PB8Lqo80j"
      },
      "execution_count": null,
      "outputs": []
    },
    {
      "cell_type": "markdown",
      "source": [
        "### 1)**Method**"
      ],
      "metadata": {
        "id": "HnWWomRsvCdA"
      }
    },
    {
      "cell_type": "code",
      "source": [
        "sgd = keras.optimizers.SGD(lr=0.01)\n",
        "model.compile(loss=\"categorical_crossentropy\", optimizer=sgd, metrics=[\"accuracy\"])"
      ],
      "metadata": {
        "colab": {
          "base_uri": "https://localhost:8080/"
        },
        "id": "bx6J3u2DsWv5",
        "outputId": "61389223-6627-4ed3-fab4-862915825c21"
      },
      "execution_count": null,
      "outputs": [
        {
          "output_type": "stream",
          "name": "stderr",
          "text": [
            "WARNING:absl:`lr` is deprecated in Keras optimizer, please use `learning_rate` or use the legacy optimizer, e.g.,tf.keras.optimizers.legacy.SGD.\n"
          ]
        }
      ]
    },
    {
      "cell_type": "code",
      "source": [
        "model.fit(x_train, y_train, batch_size=64, epochs=15, validation_data=(x_test, y_test))"
      ],
      "metadata": {
        "colab": {
          "base_uri": "https://localhost:8080/"
        },
        "id": "ABTJTC7zsWdm",
        "outputId": "41b1a103-f813-40d8-f018-d0b8a12e2683"
      },
      "execution_count": null,
      "outputs": [
        {
          "output_type": "stream",
          "name": "stdout",
          "text": [
            "Epoch 1/15\n",
            "782/782 [==============================] - 109s 89ms/step - loss: 0.5534 - accuracy: 0.8155 - val_loss: 1.0158 - val_accuracy: 0.7016\n",
            "Epoch 2/15\n",
            "782/782 [==============================] - 71s 91ms/step - loss: 0.5105 - accuracy: 0.8251 - val_loss: 1.4288 - val_accuracy: 0.6284\n",
            "Epoch 3/15\n",
            "782/782 [==============================] - 72s 92ms/step - loss: 0.5066 - accuracy: 0.8282 - val_loss: 1.1546 - val_accuracy: 0.6719\n",
            "Epoch 4/15\n",
            "782/782 [==============================] - 71s 91ms/step - loss: 0.4943 - accuracy: 0.8334 - val_loss: 1.0403 - val_accuracy: 0.7066\n",
            "Epoch 5/15\n",
            "782/782 [==============================] - 70s 90ms/step - loss: 0.4837 - accuracy: 0.8348 - val_loss: 1.0528 - val_accuracy: 0.7006\n",
            "Epoch 6/15\n",
            "782/782 [==============================] - 71s 91ms/step - loss: 0.4799 - accuracy: 0.8369 - val_loss: 0.9942 - val_accuracy: 0.7152\n",
            "Epoch 7/15\n",
            "782/782 [==============================] - 71s 91ms/step - loss: 0.4718 - accuracy: 0.8390 - val_loss: 1.0083 - val_accuracy: 0.7145\n",
            "Epoch 8/15\n",
            "782/782 [==============================] - 74s 94ms/step - loss: 0.4720 - accuracy: 0.8400 - val_loss: 1.2644 - val_accuracy: 0.6668\n",
            "Epoch 9/15\n",
            "782/782 [==============================] - 70s 89ms/step - loss: 0.4637 - accuracy: 0.8429 - val_loss: 1.0594 - val_accuracy: 0.6983\n",
            "Epoch 10/15\n",
            "782/782 [==============================] - 71s 91ms/step - loss: 0.4628 - accuracy: 0.8411 - val_loss: 1.0478 - val_accuracy: 0.7036\n",
            "Epoch 11/15\n",
            "782/782 [==============================] - 71s 91ms/step - loss: 0.4562 - accuracy: 0.8442 - val_loss: 1.0478 - val_accuracy: 0.7085\n",
            "Epoch 12/15\n",
            "782/782 [==============================] - 69s 88ms/step - loss: 0.4535 - accuracy: 0.8442 - val_loss: 1.0413 - val_accuracy: 0.7073\n",
            "Epoch 13/15\n",
            "782/782 [==============================] - 71s 91ms/step - loss: 0.4512 - accuracy: 0.8467 - val_loss: 1.0796 - val_accuracy: 0.6994\n",
            "Epoch 14/15\n",
            "782/782 [==============================] - 69s 89ms/step - loss: 0.4468 - accuracy: 0.8460 - val_loss: 1.0542 - val_accuracy: 0.7022\n",
            "Epoch 15/15\n",
            "782/782 [==============================] - 71s 91ms/step - loss: 0.4457 - accuracy: 0.8477 - val_loss: 1.2613 - val_accuracy: 0.6679\n"
          ]
        },
        {
          "output_type": "execute_result",
          "data": {
            "text/plain": [
              "<keras.callbacks.History at 0x7f32507626a0>"
            ]
          },
          "metadata": {},
          "execution_count": 23
        }
      ]
    },
    {
      "cell_type": "code",
      "source": [
        "test_loss, test_acc = model.evaluate(x_test, y_test)\n",
        "print(f\"Test accuracy: {test_acc}\")"
      ],
      "metadata": {
        "colab": {
          "base_uri": "https://localhost:8080/"
        },
        "id": "EDDZxX9TvBdT",
        "outputId": "c843200b-dd5e-4756-9d59-9d4bb97d608a"
      },
      "execution_count": null,
      "outputs": [
        {
          "output_type": "stream",
          "name": "stdout",
          "text": [
            "313/313 [==============================] - 4s 13ms/step - loss: 1.2613 - accuracy: 0.6679\n",
            "Test accuracy: 0.667900025844574\n"
          ]
        }
      ]
    },
    {
      "cell_type": "markdown",
      "source": [
        "# Finetune the hyperparameters to improve the performance of the CNN"
      ],
      "metadata": {
        "id": "1L8KF9Qq6iE1"
      }
    },
    {
      "cell_type": "markdown",
      "source": [
        "### **2)Method**\n"
      ],
      "metadata": {
        "id": "b48mHlPx6ieR"
      }
    },
    {
      "cell_type": "code",
      "source": [
        "model.compile(loss=\"categorical_crossentropy\", optimizer=\"adam\", metrics=[\"accuracy\"])"
      ],
      "metadata": {
        "id": "jT00Wm9Ao83J"
      },
      "execution_count": null,
      "outputs": []
    },
    {
      "cell_type": "code",
      "source": [
        "model.fit(x_train, y_train, batch_size=64, epochs=10, validation_data=(x_test, y_test))"
      ],
      "metadata": {
        "colab": {
          "base_uri": "https://localhost:8080/"
        },
        "id": "3zRK1ERyo85k",
        "outputId": "3cb5e729-977c-493a-8421-60a9ebc7c243"
      },
      "execution_count": null,
      "outputs": [
        {
          "output_type": "stream",
          "name": "stdout",
          "text": [
            "Epoch 1/10\n",
            "782/782 [==============================] - 71s 90ms/step - loss: 1.5390 - accuracy: 0.4511 - val_loss: 1.2891 - val_accuracy: 0.5381\n",
            "Epoch 2/10\n",
            "782/782 [==============================] - 73s 94ms/step - loss: 1.2004 - accuracy: 0.5808 - val_loss: 1.1184 - val_accuracy: 0.6150\n",
            "Epoch 3/10\n",
            "782/782 [==============================] - 71s 91ms/step - loss: 1.0717 - accuracy: 0.6318 - val_loss: 1.0415 - val_accuracy: 0.6450\n",
            "Epoch 4/10\n",
            "782/782 [==============================] - 71s 91ms/step - loss: 0.9940 - accuracy: 0.6590 - val_loss: 1.0068 - val_accuracy: 0.6544\n",
            "Epoch 5/10\n",
            "782/782 [==============================] - 70s 89ms/step - loss: 0.9354 - accuracy: 0.6802 - val_loss: 0.9966 - val_accuracy: 0.6601\n",
            "Epoch 6/10\n",
            "782/782 [==============================] - 69s 88ms/step - loss: 0.8908 - accuracy: 0.6948 - val_loss: 0.9450 - val_accuracy: 0.6745\n",
            "Epoch 7/10\n",
            "782/782 [==============================] - 72s 92ms/step - loss: 0.8478 - accuracy: 0.7116 - val_loss: 0.9646 - val_accuracy: 0.6751\n",
            "Epoch 8/10\n",
            "782/782 [==============================] - 71s 91ms/step - loss: 0.8150 - accuracy: 0.7216 - val_loss: 0.9199 - val_accuracy: 0.6901\n",
            "Epoch 9/10\n",
            "782/782 [==============================] - 69s 89ms/step - loss: 0.7828 - accuracy: 0.7318 - val_loss: 0.9020 - val_accuracy: 0.6968\n",
            "Epoch 10/10\n",
            "782/782 [==============================] - 71s 91ms/step - loss: 0.7576 - accuracy: 0.7376 - val_loss: 0.8907 - val_accuracy: 0.6960\n"
          ]
        },
        {
          "output_type": "execute_result",
          "data": {
            "text/plain": [
              "<keras.callbacks.History at 0x7f32508f4700>"
            ]
          },
          "metadata": {},
          "execution_count": 8
        }
      ]
    },
    {
      "cell_type": "code",
      "source": [
        "test_loss, test_acc = model.evaluate(x_test, y_test)\n",
        "print(f\"Test accuracy: {test_acc}\")"
      ],
      "metadata": {
        "colab": {
          "base_uri": "https://localhost:8080/"
        },
        "id": "Ko_neZ3Eo887",
        "outputId": "9075026b-3c93-4476-b514-8f5ea55a5603"
      },
      "execution_count": null,
      "outputs": [
        {
          "output_type": "stream",
          "name": "stdout",
          "text": [
            "313/313 [==============================] - 4s 13ms/step - loss: 0.8907 - accuracy: 0.6960\n",
            "Test accuracy: 0.6959999799728394\n"
          ]
        }
      ]
    },
    {
      "cell_type": "markdown",
      "source": [
        "### 3)**Method**"
      ],
      "metadata": {
        "id": "ShhB5BBwsiEt"
      }
    },
    {
      "cell_type": "code",
      "source": [
        "early_stop = EarlyStopping(monitor='val_loss', patience=3)"
      ],
      "metadata": {
        "id": "TZ_nytFvvBHX"
      },
      "execution_count": null,
      "outputs": []
    },
    {
      "cell_type": "code",
      "source": [
        "model.fit(x_train, y_train, batch_size=64, epochs=100, validation_data=(x_test, y_test), callbacks=[early_stop])"
      ],
      "metadata": {
        "colab": {
          "base_uri": "https://localhost:8080/"
        },
        "id": "Xb7ENCSjvBRX",
        "outputId": "30204067-cb3b-4339-d128-78bc8940427e"
      },
      "execution_count": null,
      "outputs": [
        {
          "output_type": "stream",
          "name": "stdout",
          "text": [
            "Epoch 1/100\n",
            "782/782 [==============================] - 72s 92ms/step - loss: 0.1145 - accuracy: 0.8063 - val_loss: 0.1603 - val_accuracy: 0.7100\n",
            "Epoch 2/100\n",
            "782/782 [==============================] - 71s 91ms/step - loss: 0.1134 - accuracy: 0.8078 - val_loss: 0.1619 - val_accuracy: 0.7072\n",
            "Epoch 3/100\n",
            "782/782 [==============================] - 69s 89ms/step - loss: 0.1124 - accuracy: 0.8100 - val_loss: 0.1592 - val_accuracy: 0.7181\n",
            "Epoch 4/100\n",
            "782/782 [==============================] - 73s 93ms/step - loss: 0.1106 - accuracy: 0.8140 - val_loss: 0.1586 - val_accuracy: 0.7175\n",
            "Epoch 5/100\n",
            "782/782 [==============================] - 72s 92ms/step - loss: 0.1097 - accuracy: 0.8167 - val_loss: 0.1599 - val_accuracy: 0.7152\n",
            "Epoch 6/100\n",
            "782/782 [==============================] - 72s 92ms/step - loss: 0.1087 - accuracy: 0.8194 - val_loss: 0.1624 - val_accuracy: 0.7123\n",
            "Epoch 7/100\n",
            "782/782 [==============================] - 71s 91ms/step - loss: 0.1076 - accuracy: 0.8194 - val_loss: 0.1618 - val_accuracy: 0.7153\n"
          ]
        },
        {
          "output_type": "execute_result",
          "data": {
            "text/plain": [
              "<keras.callbacks.History at 0x7f32506070a0>"
            ]
          },
          "metadata": {},
          "execution_count": 20
        }
      ]
    },
    {
      "cell_type": "code",
      "source": [
        "test_loss, test_acc = model.evaluate(x_test, y_test)\n",
        "print(f\"Test accuracy: {test_acc}\")"
      ],
      "metadata": {
        "colab": {
          "base_uri": "https://localhost:8080/"
        },
        "id": "69WospHMsWg7",
        "outputId": "a5e83393-b433-45c8-e1df-4505fe3050d4"
      },
      "execution_count": null,
      "outputs": [
        {
          "output_type": "stream",
          "name": "stdout",
          "text": [
            "313/313 [==============================] - 5s 15ms/step - loss: 0.1618 - accuracy: 0.7153\n",
            "Test accuracy: 0.7153000235557556\n"
          ]
        }
      ]
    },
    {
      "cell_type": "markdown",
      "source": [
        "### 4)**Method**"
      ],
      "metadata": {
        "id": "7d5MaTumsbVu"
      }
    },
    {
      "cell_type": "code",
      "source": [
        "model.compile(loss=\"binary_crossentropy\", optimizer=\"adam\", metrics=[\"accuracy\"])"
      ],
      "metadata": {
        "id": "ylCO1yBzrBKv"
      },
      "execution_count": null,
      "outputs": []
    },
    {
      "cell_type": "code",
      "source": [
        "model.fit(x_train, y_train, batch_size=128, epochs=15, validation_data=(x_test, y_test))"
      ],
      "metadata": {
        "colab": {
          "base_uri": "https://localhost:8080/"
        },
        "id": "gwNzFLHzrBPW",
        "outputId": "d9a757c2-90b7-4915-d2be-14971f5bba00"
      },
      "execution_count": null,
      "outputs": [
        {
          "output_type": "stream",
          "name": "stdout",
          "text": [
            "Epoch 1/15\n",
            "391/391 [==============================] - 68s 174ms/step - loss: 0.1393 - accuracy: 0.7592 - val_loss: 0.1613 - val_accuracy: 0.7025\n",
            "Epoch 2/15\n",
            "391/391 [==============================] - 69s 178ms/step - loss: 0.1359 - accuracy: 0.7648 - val_loss: 0.1574 - val_accuracy: 0.7089\n",
            "Epoch 3/15\n",
            "391/391 [==============================] - 67s 171ms/step - loss: 0.1336 - accuracy: 0.7678 - val_loss: 0.1571 - val_accuracy: 0.7064\n",
            "Epoch 4/15\n",
            "391/391 [==============================] - 68s 175ms/step - loss: 0.1314 - accuracy: 0.7716 - val_loss: 0.1557 - val_accuracy: 0.7092\n",
            "Epoch 5/15\n",
            "391/391 [==============================] - 67s 172ms/step - loss: 0.1291 - accuracy: 0.7767 - val_loss: 0.1567 - val_accuracy: 0.7080\n",
            "Epoch 6/15\n",
            "391/391 [==============================] - 69s 177ms/step - loss: 0.1280 - accuracy: 0.7798 - val_loss: 0.1539 - val_accuracy: 0.7128\n",
            "Epoch 7/15\n",
            "391/391 [==============================] - 67s 171ms/step - loss: 0.1259 - accuracy: 0.7837 - val_loss: 0.1543 - val_accuracy: 0.7148\n",
            "Epoch 8/15\n",
            "391/391 [==============================] - 74s 190ms/step - loss: 0.1242 - accuracy: 0.7867 - val_loss: 0.1547 - val_accuracy: 0.7168\n",
            "Epoch 9/15\n",
            "391/391 [==============================] - 68s 175ms/step - loss: 0.1227 - accuracy: 0.7891 - val_loss: 0.1531 - val_accuracy: 0.7183\n",
            "Epoch 10/15\n",
            "391/391 [==============================] - 68s 174ms/step - loss: 0.1210 - accuracy: 0.7919 - val_loss: 0.1553 - val_accuracy: 0.7126\n",
            "Epoch 11/15\n",
            "391/391 [==============================] - 69s 175ms/step - loss: 0.1196 - accuracy: 0.7949 - val_loss: 0.1536 - val_accuracy: 0.7195\n",
            "Epoch 12/15\n",
            "391/391 [==============================] - 71s 182ms/step - loss: 0.1184 - accuracy: 0.7968 - val_loss: 0.1543 - val_accuracy: 0.7148\n",
            "Epoch 13/15\n",
            "391/391 [==============================] - 71s 182ms/step - loss: 0.1174 - accuracy: 0.8014 - val_loss: 0.1542 - val_accuracy: 0.7183\n",
            "Epoch 14/15\n",
            "391/391 [==============================] - 67s 170ms/step - loss: 0.1159 - accuracy: 0.8040 - val_loss: 0.1558 - val_accuracy: 0.7158\n",
            "Epoch 15/15\n",
            "391/391 [==============================] - 67s 171ms/step - loss: 0.1150 - accuracy: 0.8058 - val_loss: 0.1553 - val_accuracy: 0.7194\n"
          ]
        },
        {
          "output_type": "execute_result",
          "data": {
            "text/plain": [
              "<keras.callbacks.History at 0x7f32506daee0>"
            ]
          },
          "metadata": {},
          "execution_count": 12
        }
      ]
    },
    {
      "cell_type": "code",
      "source": [
        "test_loss, test_acc = model.evaluate(x_test, y_test)\n",
        "print(f\"Test accuracy: {test_acc}\")"
      ],
      "metadata": {
        "colab": {
          "base_uri": "https://localhost:8080/"
        },
        "id": "0OcAH2b1rBTu",
        "outputId": "0f711e5c-f7b5-4f09-ebad-94a5fc8dea8c"
      },
      "execution_count": null,
      "outputs": [
        {
          "output_type": "stream",
          "name": "stdout",
          "text": [
            "313/313 [==============================] - 5s 17ms/step - loss: 0.1553 - accuracy: 0.7194\n",
            "Test accuracy: 0.7193999886512756\n"
          ]
        }
      ]
    },
    {
      "cell_type": "markdown",
      "source": [
        "After applying multiple method the last method has highest accuracy so we consider this model compiler and fit for training"
      ],
      "metadata": {
        "id": "DIgfT9-h6TYa"
      }
    }
  ]
}